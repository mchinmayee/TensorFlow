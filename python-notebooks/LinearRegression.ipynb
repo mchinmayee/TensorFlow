{
 "cells": [
  {
   "cell_type": "code",
   "execution_count": 1,
   "metadata": {},
   "outputs": [],
   "source": [
    "import numpy as np\n",
    "import tensorflow as tf"
   ]
  },
  {
   "cell_type": "code",
   "execution_count": 17,
   "metadata": {},
   "outputs": [],
   "source": [
    "x_batch = np.linspace(0,2,100)\n",
    "y_batch = np.linspace(0,2,100)"
   ]
  },
  {
   "cell_type": "code",
   "execution_count": 18,
   "metadata": {},
   "outputs": [],
   "source": [
    "n=len(x_batch)\n",
    "n1 = len(y_batch)"
   ]
  },
  {
   "cell_type": "code",
   "execution_count": 19,
   "metadata": {},
   "outputs": [
    {
     "data": {
      "text/plain": [
       "(100, 100)"
      ]
     },
     "execution_count": 19,
     "metadata": {},
     "output_type": "execute_result"
    }
   ],
   "source": [
    "n,n1"
   ]
  },
  {
   "cell_type": "raw",
   "metadata": {},
   "source": [
    "Now create our model by creating placeholders x and y, so that we can feed our training examples x and y into the optimizer during the training process."
   ]
  },
  {
   "cell_type": "code",
   "execution_count": 79,
   "metadata": {},
   "outputs": [],
   "source": [
    "X = tf.placeholder(\"float\")\n",
    "Y = tf.placeholder(\"float\")"
   ]
  },
  {
   "cell_type": "code",
   "execution_count": 73,
   "metadata": {},
   "outputs": [],
   "source": [
    "w = tf.Variable(np.random.randn(), name='w')\n",
    "b = tf.Variable(np.random.randn(), name='b')"
   ]
  },
  {
   "cell_type": "code",
   "execution_count": 80,
   "metadata": {},
   "outputs": [],
   "source": [
    "y_pred = tf.add(tf.multiply(w,X),b)"
   ]
  },
  {
   "cell_type": "code",
   "execution_count": 81,
   "metadata": {},
   "outputs": [],
   "source": [
    "loss = tf.reduce_mean(tf.square(y_pred-Y))"
   ]
  },
  {
   "cell_type": "code",
   "execution_count": 82,
   "metadata": {},
   "outputs": [],
   "source": [
    "learning_rate = 0.01\n",
    "training_epochs = 1000"
   ]
  },
  {
   "cell_type": "code",
   "execution_count": 83,
   "metadata": {},
   "outputs": [],
   "source": [
    "#Gradient descent optimizer\n",
    "optimizer = tf.train.GradientDescentOptimizer(learning_rate).minimize(loss)"
   ]
  },
  {
   "cell_type": "code",
   "execution_count": 84,
   "metadata": {},
   "outputs": [
    {
     "data": {
      "text/plain": [
       "<tf.Operation 'GradientDescent_5' type=NoOp>"
      ]
     },
     "execution_count": 84,
     "metadata": {},
     "output_type": "execute_result"
    }
   ],
   "source": [
    "optimizer"
   ]
  },
  {
   "cell_type": "code",
   "execution_count": 85,
   "metadata": {},
   "outputs": [],
   "source": [
    "#Global variable intializer\n",
    "init = tf.global_variables_initializer()\n",
    "#feed_dict = {x:x, y:y}"
   ]
  },
  {
   "cell_type": "code",
   "execution_count": 87,
   "metadata": {},
   "outputs": [
    {
     "name": "stdout",
     "output_type": "stream",
     "text": [
      "Epoch 50 : cost = None W = 0.9352001 b = 0.6855322\n",
      "Epoch 100 : cost = None W = 0.9232262 b = 0.6731176\n",
      "Epoch 150 : cost = None W = 0.9118215 b = 0.6611907\n",
      "Epoch 200 : cost = None W = 0.900961 b = 0.64973044\n",
      "Epoch 250 : cost = None W = 0.89062077 b = 0.63871664\n",
      "Epoch 300 : cost = None W = 0.88077796 b = 0.6281299\n",
      "Epoch 350 : cost = None W = 0.87141067 b = 0.61795175\n",
      "Epoch 400 : cost = None W = 0.862498 b = 0.6081645\n",
      "Epoch 450 : cost = None W = 0.85401994 b = 0.59875125\n",
      "Epoch 500 : cost = None W = 0.8459574 b = 0.5896958\n",
      "Epoch 550 : cost = None W = 0.838292 b = 0.58098274\n",
      "Epoch 600 : cost = None W = 0.83100635 b = 0.57259727\n",
      "Epoch 650 : cost = None W = 0.8240837 b = 0.5645252\n",
      "Epoch 700 : cost = None W = 0.817508 b = 0.55675304\n",
      "Epoch 750 : cost = None W = 0.811264 b = 0.5492678\n",
      "Epoch 800 : cost = None W = 0.805337 b = 0.5420572\n",
      "Epoch 850 : cost = None W = 0.7997131 b = 0.53510934\n",
      "Epoch 900 : cost = None W = 0.7943789 b = 0.5284129\n",
      "Epoch 950 : cost = None W = 0.78932154 b = 0.52195704\n",
      "Epoch 1000 : cost = None W = 0.78452885 b = 0.51573145\n"
     ]
    }
   ],
   "source": [
    "#starting the training process inside a TensorFlow Session\n",
    "with tf.Session() as sess:\n",
    "    sess.run(init)\n",
    "    for epoch in range(training_epochs):\n",
    "    # feed each data point into the optimizer using feed_dict  \n",
    "        #sess.run(optimizer,{X:x_batch, Y:y_batch})\n",
    "        if (epoch + 1) % 50 == 0: \n",
    "                # Calculating the cost a every epoch \n",
    "                c = sess.run(optimizer, feed_dict = {X : x_batch, Y : y_batch}) \n",
    "                print(\"Epoch\", (epoch + 1), \": cost =\", c, \"W =\", sess.run(w), \"b =\", sess.run(b)) \n"
   ]
  },
  {
   "cell_type": "code",
   "execution_count": null,
   "metadata": {},
   "outputs": [],
   "source": []
  }
 ],
 "metadata": {
  "kernelspec": {
   "display_name": "Python 3",
   "language": "python",
   "name": "python3"
  },
  "language_info": {
   "codemirror_mode": {
    "name": "ipython",
    "version": 3
   },
   "file_extension": ".py",
   "mimetype": "text/x-python",
   "name": "python",
   "nbconvert_exporter": "python",
   "pygments_lexer": "ipython3",
   "version": "3.6.8"
  }
 },
 "nbformat": 4,
 "nbformat_minor": 2
}
